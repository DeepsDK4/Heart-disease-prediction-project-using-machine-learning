{
  "metadata": {
    "kernelspec": {
      "language": "python",
      "display_name": "Python 3",
      "name": "python3"
    },
    "language_info": {
      "name": "python",
      "version": "3.10.13",
      "mimetype": "text/x-python",
      "codemirror_mode": {
        "name": "ipython",
        "version": 3
      },
      "pygments_lexer": "ipython3",
      "nbconvert_exporter": "python",
      "file_extension": ".py"
    },
    "kaggle": {
      "accelerator": "none",
      "dataSources": [
        {
          "sourceId": 9196983,
          "sourceType": "datasetVersion",
          "datasetId": 5560153
        }
      ],
      "dockerImageVersionId": 30746,
      "isInternetEnabled": false,
      "language": "python",
      "sourceType": "notebook",
      "isGpuEnabled": false
    },
    "colab": {
      "name": "heart-fail-disease-prediction-classification-model",
      "provenance": []
    }
  },
  "nbformat_minor": 0,
  "nbformat": 4,
  "cells": [
    {
      "source": [
        "\n",
        "# IMPORTANT: RUN THIS CELL IN ORDER TO IMPORT YOUR KAGGLE DATA SOURCES\n",
        "# TO THE CORRECT LOCATION (/kaggle/input) IN YOUR NOTEBOOK,\n",
        "# THEN FEEL FREE TO DELETE THIS CELL.\n",
        "# NOTE: THIS NOTEBOOK ENVIRONMENT DIFFERS FROM KAGGLE'S PYTHON\n",
        "# ENVIRONMENT SO THERE MAY BE MISSING LIBRARIES USED BY YOUR\n",
        "# NOTEBOOK.\n",
        "\n",
        "import os\n",
        "import sys\n",
        "from tempfile import NamedTemporaryFile\n",
        "from urllib.request import urlopen\n",
        "from urllib.parse import unquote, urlparse\n",
        "from urllib.error import HTTPError\n",
        "from zipfile import ZipFile\n",
        "import tarfile\n",
        "import shutil\n",
        "\n",
        "CHUNK_SIZE = 40960\n",
        "DATA_SOURCE_MAPPING = 'heart-disease-dataset:https%3A%2F%2Fstorage.googleapis.com%2Fkaggle-data-sets%2F5560153%2F9196983%2Fbundle%2Farchive.zip%3FX-Goog-Algorithm%3DGOOG4-RSA-SHA256%26X-Goog-Credential%3Dgcp-kaggle-com%2540kaggle-161607.iam.gserviceaccount.com%252F20240826%252Fauto%252Fstorage%252Fgoog4_request%26X-Goog-Date%3D20240826T093345Z%26X-Goog-Expires%3D259200%26X-Goog-SignedHeaders%3Dhost%26X-Goog-Signature%3D172c2444e08efcee957bd0198947f7aaf45bfbfda2c2726645123f71769da48edd0a36a4f1c9fbd7e53da9f31dafaa3175415a28948e9156169ddcfb7d868225d50a8b288faa6970c7367b758483927a8ec32e3277074adc159ab43f4b3fb5eda1f5b17eb850e0bdcdf5ba4783d5d87097d8ff2b9e19abc71693508af3f134f0faecbd666733a9468ffa19020c5f179239ef2d0dd91d225559bd070dba02a16acdb633f28f0d69dfad28d72830b029083b02730a5db338b5a52a491a992b8cf8ac771555b47456de233b31e0a67a29291a1fa14df03a3a5327617213a37fe2ddb18514436cdfafe84c08ca00e73c97f28e3cc39052cc9b63deacf83f13eadc88'\n",
        "\n",
        "KAGGLE_INPUT_PATH='/kaggle/input'\n",
        "KAGGLE_WORKING_PATH='/kaggle/working'\n",
        "KAGGLE_SYMLINK='kaggle'\n",
        "\n",
        "!umount /kaggle/input/ 2> /dev/null\n",
        "shutil.rmtree('/kaggle/input', ignore_errors=True)\n",
        "os.makedirs(KAGGLE_INPUT_PATH, 0o777, exist_ok=True)\n",
        "os.makedirs(KAGGLE_WORKING_PATH, 0o777, exist_ok=True)\n",
        "\n",
        "try:\n",
        "  os.symlink(KAGGLE_INPUT_PATH, os.path.join(\"..\", 'input'), target_is_directory=True)\n",
        "except FileExistsError:\n",
        "  pass\n",
        "try:\n",
        "  os.symlink(KAGGLE_WORKING_PATH, os.path.join(\"..\", 'working'), target_is_directory=True)\n",
        "except FileExistsError:\n",
        "  pass\n",
        "\n",
        "for data_source_mapping in DATA_SOURCE_MAPPING.split(','):\n",
        "    directory, download_url_encoded = data_source_mapping.split(':')\n",
        "    download_url = unquote(download_url_encoded)\n",
        "    filename = urlparse(download_url).path\n",
        "    destination_path = os.path.join(KAGGLE_INPUT_PATH, directory)\n",
        "    try:\n",
        "        with urlopen(download_url) as fileres, NamedTemporaryFile() as tfile:\n",
        "            total_length = fileres.headers['content-length']\n",
        "            print(f'Downloading {directory}, {total_length} bytes compressed')\n",
        "            dl = 0\n",
        "            data = fileres.read(CHUNK_SIZE)\n",
        "            while len(data) > 0:\n",
        "                dl += len(data)\n",
        "                tfile.write(data)\n",
        "                done = int(50 * dl / int(total_length))\n",
        "                sys.stdout.write(f\"\\r[{'=' * done}{' ' * (50-done)}] {dl} bytes downloaded\")\n",
        "                sys.stdout.flush()\n",
        "                data = fileres.read(CHUNK_SIZE)\n",
        "            if filename.endswith('.zip'):\n",
        "              with ZipFile(tfile) as zfile:\n",
        "                zfile.extractall(destination_path)\n",
        "            else:\n",
        "              with tarfile.open(tfile.name) as tarfile:\n",
        "                tarfile.extractall(destination_path)\n",
        "            print(f'\\nDownloaded and uncompressed: {directory}')\n",
        "    except HTTPError as e:\n",
        "        print(f'Failed to load (likely expired) {download_url} to path {destination_path}')\n",
        "        continue\n",
        "    except OSError as e:\n",
        "        print(f'Failed to load {download_url} to path {destination_path}')\n",
        "        continue\n",
        "\n",
        "print('Data source import complete.')\n"
      ],
      "metadata": {
        "id": "MyLUFLIeCWmM"
      },
      "cell_type": "code",
      "outputs": [],
      "execution_count": null
    },
    {
      "cell_type": "markdown",
      "source": [
        "## About dataset:\n",
        "\n",
        "The heart disease dataset consists of 918 records across 12 columns, covering the important feature variable and target value. The dataset includes various sale categories and attributes such as:\n",
        "\n",
        "1. **Age:** age of the patient [years]\n",
        "2. **Sex:** sex of the patient [M: Male, F: Female]\n",
        "3. **ChestPainType:** chest pain type [TA: Typical Angina, ATA: Atypical Angina, NAP: Non-Anginal Pain, ASY: Asymptomatic]\n",
        "4. **RestingBP:** resting blood pressure [mm Hg]\n",
        "5. **Cholesterol:** serum cholesterol [mm/dl]\n",
        "6. **FastingBS:** fasting blood sugar [1: if FastingBS > 120 mm/dl, 0: otherwise]\n",
        "7. **RestingECG:** resting electrocardiogram results [Normal: Normal, ST: having ST-T wave abnormality (T wave inversions and/or ST elevation or depression of > 0.05 mV), LVH: showing probable or definite left ventricular hypertrophy by Estes criteria]\n",
        "8. **MaxHR:** maximum heart rate achieved [Numeric value between 60 and 202]\n",
        "9. **ExerciseAngina:** exercise-induced angina [Y: Yes, N: No]\n",
        "10. **Oldpeak:** oldpeak = ST [Numeric value measured in depression]\n",
        "11. **ST_Slope:** the slope of the peak exercise ST segment [Up: upsloping, Flat: flat, Down: downsloping]\n",
        "12. **HeartDisease:** output class [1: heart disease, 0: Normal]\n",
        "\n",
        "This dataset contains a mix of textual and numerical (float) values, which can be challenging to manage, analyze, and predict the new values' outcomes manually.\n"
      ],
      "metadata": {
        "id": "AtPyhlohCWmP"
      }
    },
    {
      "cell_type": "markdown",
      "source": [
        "## Problem Statement and Approach\n",
        "\n",
        "To predict whether a patient will have a heart attack, I will use Python and its data science libraries, along with Microsoft Excel.\n",
        "\n",
        "**Data Preparation**\n",
        "\n",
        "Python libraries like NumPy and Pandas will be used for data cleaning and manipulation, while Excel will assist with preliminary data inspection.\n",
        "\n",
        "**Exploratory Data Analysis (EDA)**\n",
        "\n",
        "Visualization tools such as Matplotlib and Seaborn will help uncover patterns and insights.\n",
        "\n",
        "**Model Building**\n",
        "\n",
        "Scikit-learn will be employed to develop and evaluate classification models, aiming to predict heart attack risk based on the provided features.\n",
        "\n",
        "This combined approach will facilitate thorough data analysis, feature engineering, and model development to accurately predict heart attack likelihood.\n"
      ],
      "metadata": {
        "id": "Jpo1P4QfCWmR"
      }
    },
    {
      "cell_type": "code",
      "source": [
        "# Importing neccesaries libraries\n",
        "import numpy as np # linear algebra\n",
        "import pandas as pd # data processing, CSV file I/O (e.g. pd.read_csv)\n",
        "import matplotlib.pyplot as plt\n",
        "import seaborn as sns\n",
        "%matplotlib inline\n"
      ],
      "metadata": {
        "_uuid": "8f2839f25d086af736a60e9eeb907d3b93b6e0e5",
        "_cell_guid": "b1076dfc-b9ad-4769-8c92-a6c4dae69d19",
        "execution": {
          "iopub.status.busy": "2024-08-18T16:55:29.153525Z",
          "iopub.execute_input": "2024-08-18T16:55:29.153968Z",
          "iopub.status.idle": "2024-08-18T16:55:29.161964Z",
          "shell.execute_reply.started": "2024-08-18T16:55:29.153937Z",
          "shell.execute_reply": "2024-08-18T16:55:29.160805Z"
        },
        "trusted": true,
        "id": "4DDTIuZjCWmR"
      },
      "execution_count": null,
      "outputs": []
    },
    {
      "cell_type": "code",
      "source": [
        "import os\n",
        "file = os.listdir(\"/kaggle/input/heart-disease-dataset\")\n",
        "print(file)"
      ],
      "metadata": {
        "execution": {
          "iopub.status.busy": "2024-08-18T16:55:29.163744Z",
          "iopub.execute_input": "2024-08-18T16:55:29.164092Z",
          "iopub.status.idle": "2024-08-18T16:55:29.184032Z",
          "shell.execute_reply.started": "2024-08-18T16:55:29.164041Z",
          "shell.execute_reply": "2024-08-18T16:55:29.182778Z"
        },
        "trusted": true,
        "id": "uF7qpAvpCWmS"
      },
      "execution_count": null,
      "outputs": []
    },
    {
      "cell_type": "code",
      "source": [
        "# Load the dataset\n",
        "df = pd.read_csv(\"/kaggle/input/heart-disease-dataset/heart.csv\")\n",
        "df.sample(5)"
      ],
      "metadata": {
        "execution": {
          "iopub.status.busy": "2024-08-18T16:55:29.205988Z",
          "iopub.execute_input": "2024-08-18T16:55:29.206447Z",
          "iopub.status.idle": "2024-08-18T16:55:29.233579Z",
          "shell.execute_reply.started": "2024-08-18T16:55:29.206413Z",
          "shell.execute_reply": "2024-08-18T16:55:29.232522Z"
        },
        "trusted": true,
        "id": "bD5p-8d-CWmS"
      },
      "execution_count": null,
      "outputs": []
    },
    {
      "cell_type": "code",
      "source": [
        "df.info()"
      ],
      "metadata": {
        "execution": {
          "iopub.status.busy": "2024-08-18T16:55:29.235485Z",
          "iopub.execute_input": "2024-08-18T16:55:29.235917Z",
          "iopub.status.idle": "2024-08-18T16:55:29.249767Z",
          "shell.execute_reply.started": "2024-08-18T16:55:29.235885Z",
          "shell.execute_reply": "2024-08-18T16:55:29.248517Z"
        },
        "trusted": true,
        "id": "-QUZ41oTCWmS"
      },
      "execution_count": null,
      "outputs": []
    },
    {
      "cell_type": "code",
      "source": [
        "df.describe().T # This will give the statistical summary of numerical columns only"
      ],
      "metadata": {
        "execution": {
          "iopub.status.busy": "2024-08-18T16:55:29.252024Z",
          "iopub.execute_input": "2024-08-18T16:55:29.252476Z",
          "iopub.status.idle": "2024-08-18T16:55:29.300588Z",
          "shell.execute_reply.started": "2024-08-18T16:55:29.252434Z",
          "shell.execute_reply": "2024-08-18T16:55:29.299482Z"
        },
        "trusted": true,
        "id": "I34KCeKwCWmT"
      },
      "execution_count": null,
      "outputs": []
    },
    {
      "cell_type": "code",
      "source": [
        "df.describe(include=object).T # this will provide statistcal summary of object columns"
      ],
      "metadata": {
        "execution": {
          "iopub.status.busy": "2024-08-18T16:55:29.302947Z",
          "iopub.execute_input": "2024-08-18T16:55:29.303313Z",
          "iopub.status.idle": "2024-08-18T16:55:29.325238Z",
          "shell.execute_reply.started": "2024-08-18T16:55:29.303282Z",
          "shell.execute_reply": "2024-08-18T16:55:29.324009Z"
        },
        "trusted": true,
        "id": "XvtzIUMgCWmT"
      },
      "execution_count": null,
      "outputs": []
    },
    {
      "cell_type": "code",
      "source": [
        "# Data Preprocessing\n",
        "print(\"Null values in each column:\")\n",
        "print(df.isnull().sum()) # Check for null values\n",
        "\n",
        "print(\"\\nNumber of duplicate rows:\")\n",
        "print(df.duplicated().sum()) # Check for duplicate rows\n",
        "\n",
        "print(\"Number of unique values in each feature (sorted):\")\n",
        "print(df.nunique().sort_values(ascending=False)) # Checking the number of unique values in each feature\n"
      ],
      "metadata": {
        "execution": {
          "iopub.status.busy": "2024-08-18T16:55:29.326626Z",
          "iopub.execute_input": "2024-08-18T16:55:29.326962Z",
          "iopub.status.idle": "2024-08-18T16:55:29.34175Z",
          "shell.execute_reply.started": "2024-08-18T16:55:29.326933Z",
          "shell.execute_reply": "2024-08-18T16:55:29.340529Z"
        },
        "trusted": true,
        "id": "YFlLaeSBCWmU"
      },
      "execution_count": null,
      "outputs": []
    },
    {
      "cell_type": "code",
      "source": [
        "# Check frequency of categorical values within selected columns\n",
        "cat_col = []\n",
        "for col in df.select_dtypes(include= 'object' ).columns:\n",
        "    if df[col].nunique() < 5:\n",
        "        print(df[col].value_counts())\n",
        "        print('-'*100)\n",
        "        cat_col.append(col)"
      ],
      "metadata": {
        "execution": {
          "iopub.status.busy": "2024-08-18T16:55:29.342954Z",
          "iopub.execute_input": "2024-08-18T16:55:29.343351Z",
          "iopub.status.idle": "2024-08-18T16:55:29.360777Z",
          "shell.execute_reply.started": "2024-08-18T16:55:29.34332Z",
          "shell.execute_reply": "2024-08-18T16:55:29.359216Z"
        },
        "trusted": true,
        "id": "Xa414DQ7CWmU"
      },
      "execution_count": null,
      "outputs": []
    },
    {
      "cell_type": "markdown",
      "source": [
        "### Transforming categorical variable to numerical variable for ease of calculation\n",
        "    Sex : M = 0 , F = 1\n",
        "    ChestPainType : ATA = 0 , NAP = 1, ASY = 2, TA = 3\n",
        "    RestingECG : Normal = 0 , ST = 1, LVH = 2\n",
        "    ExerciseAngina : N = 0 , Y = 1\n",
        "    ST_Slope : Up = 0, Flat = 1, Down = 2\n"
      ],
      "metadata": {
        "id": "jVn97G07CWmU"
      }
    },
    {
      "cell_type": "markdown",
      "source": [
        "**Note:**\n",
        "\n",
        "Running this code will transform categorical variables into numerical labels in the `df_new` DataFrame. To preserve the original categorical data for reporting or future use, avoid re-running this code. Running it multiple times will overwrite these transformations, making it difficult to recover the original categorical values."
      ],
      "metadata": {
        "id": "JqkE5DOXCWmU"
      }
    },
    {
      "cell_type": "code",
      "source": [
        "df.describe().T"
      ],
      "metadata": {
        "execution": {
          "iopub.status.busy": "2024-08-18T16:55:29.362225Z",
          "iopub.execute_input": "2024-08-18T16:55:29.362595Z",
          "iopub.status.idle": "2024-08-18T16:55:29.404611Z",
          "shell.execute_reply.started": "2024-08-18T16:55:29.362563Z",
          "shell.execute_reply": "2024-08-18T16:55:29.403271Z"
        },
        "trusted": true,
        "id": "P8dszJHmCWmV"
      },
      "execution_count": null,
      "outputs": []
    },
    {
      "cell_type": "code",
      "source": [
        "(df['RestingBP']==0).sum()"
      ],
      "metadata": {
        "execution": {
          "iopub.status.busy": "2024-08-18T16:55:29.406103Z",
          "iopub.execute_input": "2024-08-18T16:55:29.406411Z",
          "iopub.status.idle": "2024-08-18T16:55:29.414482Z",
          "shell.execute_reply.started": "2024-08-18T16:55:29.406385Z",
          "shell.execute_reply": "2024-08-18T16:55:29.413228Z"
        },
        "trusted": true,
        "id": "5X1_rfq9CWmV"
      },
      "execution_count": null,
      "outputs": []
    },
    {
      "cell_type": "code",
      "source": [
        "(df['Cholesterol']==0).sum()"
      ],
      "metadata": {
        "execution": {
          "iopub.status.busy": "2024-08-18T16:55:29.416177Z",
          "iopub.execute_input": "2024-08-18T16:55:29.416596Z",
          "iopub.status.idle": "2024-08-18T16:55:29.425959Z",
          "shell.execute_reply.started": "2024-08-18T16:55:29.416556Z",
          "shell.execute_reply": "2024-08-18T16:55:29.424655Z"
        },
        "trusted": true,
        "id": "ZV06_StuCWmV"
      },
      "execution_count": null,
      "outputs": []
    },
    {
      "cell_type": "code",
      "source": [
        "df_new = df.copy() # Create a copy of the original DataFrame\n",
        "\n",
        "for col in cat_col:\n",
        "    print(col)\n",
        "    unique_values = df_new[col].unique()\n",
        "    value_mapping = {val: idx for idx, val in enumerate(unique_values)}\n",
        "    print(unique_values, list(range(len(unique_values))))\n",
        "    df_new[col] = df_new[col].map(value_mapping)  # Replace categorical values with numerical value\n",
        "    print('-' * 100)\n",
        "\n",
        "# Note: The transformations are applied to df_new, leaving df unchanged."
      ],
      "metadata": {
        "execution": {
          "iopub.status.busy": "2024-08-18T16:55:29.430584Z",
          "iopub.execute_input": "2024-08-18T16:55:29.431122Z",
          "iopub.status.idle": "2024-08-18T16:55:29.447244Z",
          "shell.execute_reply.started": "2024-08-18T16:55:29.431077Z",
          "shell.execute_reply": "2024-08-18T16:55:29.446112Z"
        },
        "trusted": true,
        "id": "r_W95gYzCWmV"
      },
      "execution_count": null,
      "outputs": []
    },
    {
      "cell_type": "code",
      "source": [
        "df_new.describe().T"
      ],
      "metadata": {
        "execution": {
          "iopub.status.busy": "2024-08-18T16:55:29.448766Z",
          "iopub.execute_input": "2024-08-18T16:55:29.449131Z",
          "iopub.status.idle": "2024-08-18T16:55:29.500401Z",
          "shell.execute_reply.started": "2024-08-18T16:55:29.449093Z",
          "shell.execute_reply": "2024-08-18T16:55:29.499242Z"
        },
        "trusted": true,
        "id": "JLkNqjPnCWmV"
      },
      "execution_count": null,
      "outputs": []
    },
    {
      "cell_type": "markdown",
      "source": [
        "Cholestrol value in dataset have zero value which is wrong entries since cholestrol can be zero and same RestingBP even though its just one value of 0 is there.\n",
        "To impute these missing value, I will be using KNN Impution for Cholestrol and Mean Impution among available imputation -\n",
        "* Mean Imputation (**Best For:** When data is normally distributed and there are no significant outliers)\n",
        "* Mode Imputation (**Best For:** Categorical data or when the numerical column has a few distinct values with one being very frequent)\n",
        "* Median Imputation (**Best For**: When the data contains outliers or is skewed)\n",
        "* K-Nearest Neighbors Imputation aka KNN Imputation (**Best For:** When there is a complex relationship between features or when mean/median imputation is not suitable)\n",
        "* Interpolation (**Best For:** Time series data or when the data is ordered and trends can be exploited)"
      ],
      "metadata": {
        "id": "_bxs73ysCWmV"
      }
    },
    {
      "cell_type": "code",
      "source": [
        "df_new.sample(5)"
      ],
      "metadata": {
        "execution": {
          "iopub.status.busy": "2024-08-18T16:55:29.501813Z",
          "iopub.execute_input": "2024-08-18T16:55:29.502172Z",
          "iopub.status.idle": "2024-08-18T16:55:29.517724Z",
          "shell.execute_reply.started": "2024-08-18T16:55:29.502141Z",
          "shell.execute_reply": "2024-08-18T16:55:29.516594Z"
        },
        "trusted": true,
        "id": "2yndxa3MCWmV"
      },
      "execution_count": null,
      "outputs": []
    },
    {
      "cell_type": "code",
      "source": [
        "# Impute the 0 with KNN\n",
        "from sklearn.impute import KNNImputer\n",
        "df_new['Cholesterol'].replace(0, np.nan) # replacing 0 with nan\n",
        "imputer = KNNImputer(n_neighbors=3)\n",
        "after_impute = imputer.fit_transform(df_new)\n",
        "df_new = pd.DataFrame(after_impute, columns=df_new.columns)"
      ],
      "metadata": {
        "execution": {
          "iopub.status.busy": "2024-08-18T16:55:29.518969Z",
          "iopub.execute_input": "2024-08-18T16:55:29.519326Z",
          "iopub.status.idle": "2024-08-18T16:55:29.536395Z",
          "shell.execute_reply.started": "2024-08-18T16:55:29.519295Z",
          "shell.execute_reply": "2024-08-18T16:55:29.535274Z"
        },
        "trusted": true,
        "id": "TSkcNQv0CWmV"
      },
      "execution_count": null,
      "outputs": []
    },
    {
      "cell_type": "code",
      "source": [
        "df_new.sample(5)"
      ],
      "metadata": {
        "execution": {
          "iopub.status.busy": "2024-08-18T16:55:29.53769Z",
          "iopub.execute_input": "2024-08-18T16:55:29.538004Z",
          "iopub.status.idle": "2024-08-18T16:55:29.563314Z",
          "shell.execute_reply.started": "2024-08-18T16:55:29.537976Z",
          "shell.execute_reply": "2024-08-18T16:55:29.562084Z"
        },
        "trusted": true,
        "id": "1gQOF-P6CWmW"
      },
      "execution_count": null,
      "outputs": []
    },
    {
      "cell_type": "code",
      "source": [
        "# Change the columns back to int type for ease of calculation except Oldpeak columns\n",
        "selected_Col = df_new.columns\n",
        "selected_Col = selected_Col.drop('Oldpeak')\n",
        "df_new[selected_Col] = df_new[selected_Col].astype('int32')"
      ],
      "metadata": {
        "execution": {
          "iopub.status.busy": "2024-08-18T16:55:29.564953Z",
          "iopub.execute_input": "2024-08-18T16:55:29.565669Z",
          "iopub.status.idle": "2024-08-18T16:55:29.576555Z",
          "shell.execute_reply.started": "2024-08-18T16:55:29.565634Z",
          "shell.execute_reply": "2024-08-18T16:55:29.575254Z"
        },
        "trusted": true,
        "id": "wpH4g6BhCWmW"
      },
      "execution_count": null,
      "outputs": []
    },
    {
      "cell_type": "markdown",
      "source": [
        "## **Exploratory Data Analysis**\n",
        "In the exploratory data analysis (EDA), I will:\n",
        "\n",
        "**Examine Data Distribution:**\n",
        "\n",
        "Assess the distribution of each feature to understand their individual characteristics.\n",
        "\n",
        "**Analyze Feature Correlations:**\n",
        "\n",
        "Explore the correlation between features and the target variable, HeartDisease.\n",
        "\n",
        "**Visualize Relationships:**\n",
        "\n",
        "Use correlation matrices and heatmaps to visualize the relationships between features and the target variable."
      ],
      "metadata": {
        "id": "mK6Aj1rtCWmW"
      }
    },
    {
      "cell_type": "code",
      "source": [
        "# Calculate the correlation between all features and the target variable\n",
        "df_new.corr()['HeartDisease'][:-1].sort_values().plot(kind='bar')\n",
        "plt.xticks(rotation=45)\n",
        "plt.show()"
      ],
      "metadata": {
        "execution": {
          "iopub.status.busy": "2024-08-18T16:55:29.577715Z",
          "iopub.execute_input": "2024-08-18T16:55:29.578143Z",
          "iopub.status.idle": "2024-08-18T16:55:29.834605Z",
          "shell.execute_reply.started": "2024-08-18T16:55:29.578104Z",
          "shell.execute_reply": "2024-08-18T16:55:29.833429Z"
        },
        "trusted": true,
        "id": "A7t-q7g2CWmW"
      },
      "execution_count": null,
      "outputs": []
    },
    {
      "cell_type": "code",
      "source": [
        "# Hear Disease percentage in dataset\n",
        "plt.pie(df_new['HeartDisease'].value_counts(), labels=['Yes', 'No'], autopct='%1.1f%%', startangle=90)\n",
        "plt.title('Heart Disease Percentage')\n",
        "plt.show()"
      ],
      "metadata": {
        "execution": {
          "iopub.status.busy": "2024-08-18T16:55:29.836445Z",
          "iopub.execute_input": "2024-08-18T16:55:29.836781Z",
          "iopub.status.idle": "2024-08-18T16:55:29.965342Z",
          "shell.execute_reply.started": "2024-08-18T16:55:29.836752Z",
          "shell.execute_reply": "2024-08-18T16:55:29.964138Z"
        },
        "trusted": true,
        "id": "P77HX-4YCWmW"
      },
      "execution_count": null,
      "outputs": []
    },
    {
      "cell_type": "code",
      "source": [
        "# count of heart disease cases by gender\n",
        "sns.countplot(x='Sex', data=df_new, hue='HeartDisease')\n",
        "plt.title('Gender Distribution')\n",
        "plt.xlabel('Gender - [M : 0 | F : 1]')\n",
        "plt.ylabel('People Count')\n",
        "plt.show()"
      ],
      "metadata": {
        "execution": {
          "iopub.status.busy": "2024-08-18T16:55:29.966987Z",
          "iopub.execute_input": "2024-08-18T16:55:29.96781Z",
          "iopub.status.idle": "2024-08-18T16:55:30.226941Z",
          "shell.execute_reply.started": "2024-08-18T16:55:29.967762Z",
          "shell.execute_reply": "2024-08-18T16:55:30.225884Z"
        },
        "trusted": true,
        "id": "pgyuSXxSCWmW"
      },
      "execution_count": null,
      "outputs": []
    },
    {
      "cell_type": "markdown",
      "source": [
        "The count plot reveals the relationship between gender and heart disease, indicating that men have a higher risk of developing heart disease compared to women."
      ],
      "metadata": {
        "id": "-_HYDxWeCWmW"
      }
    },
    {
      "cell_type": "code",
      "source": [
        "import warnings\n",
        "warnings.filterwarnings(\"ignore\", category=FutureWarning)"
      ],
      "metadata": {
        "execution": {
          "iopub.status.busy": "2024-08-18T16:55:30.228321Z",
          "iopub.execute_input": "2024-08-18T16:55:30.228649Z",
          "iopub.status.idle": "2024-08-18T16:55:30.23388Z",
          "shell.execute_reply.started": "2024-08-18T16:55:30.22862Z",
          "shell.execute_reply": "2024-08-18T16:55:30.232827Z"
        },
        "trusted": true,
        "id": "wz_1xOe8CWmW"
      },
      "execution_count": null,
      "outputs": []
    },
    {
      "cell_type": "code",
      "source": [
        "# catplot for age distribution for heart disease patients\n",
        "sns.catplot(x=\"HeartDisease\", y=\"Age\", kind=\"swarm\", data=df_new)\n",
        "plt.show()"
      ],
      "metadata": {
        "execution": {
          "iopub.status.busy": "2024-08-18T16:55:30.235047Z",
          "iopub.execute_input": "2024-08-18T16:55:30.235419Z",
          "iopub.status.idle": "2024-08-18T16:55:32.056957Z",
          "shell.execute_reply.started": "2024-08-18T16:55:30.23539Z",
          "shell.execute_reply": "2024-08-18T16:55:32.055738Z"
        },
        "trusted": true,
        "id": "n52URMvGCWmX"
      },
      "execution_count": null,
      "outputs": []
    },
    {
      "cell_type": "code",
      "source": [
        "# Histogram plot of age distribution for heart disease patients\n",
        "sns.histplot(data=df_new, x=\"Age\", hue=\"HeartDisease\", multiple=\"stack\", kde=True)\n",
        "plt.show()"
      ],
      "metadata": {
        "execution": {
          "iopub.status.busy": "2024-08-18T16:55:32.0584Z",
          "iopub.execute_input": "2024-08-18T16:55:32.058725Z",
          "iopub.status.idle": "2024-08-18T16:55:32.475525Z",
          "shell.execute_reply.started": "2024-08-18T16:55:32.058688Z",
          "shell.execute_reply": "2024-08-18T16:55:32.474265Z"
        },
        "trusted": true,
        "id": "JI-sMWowCWmX"
      },
      "execution_count": null,
      "outputs": []
    },
    {
      "cell_type": "markdown",
      "source": [
        "The catplot and histplot show that the majority of patients fall within the age group of *40-70* years. Specifically, individuals aged *50-65* years are more prone to heart disease compared to other age groups. This increased prevalence in the *50-65* year range can be attributed to the higher number of adults within this age bracket, leading to a greater number of heart disease cases compared to other age groups."
      ],
      "metadata": {
        "id": "xwE7d8apCWmX"
      }
    },
    {
      "cell_type": "code",
      "source": [
        "# countplot to show the distribution of ChestPainType with respect to HeartDisease\n",
        "sns.countplot(x='ChestPainType', data=df_new, hue='HeartDisease')\n",
        "plt.title('ChestPainType Distribution')\n",
        "plt.xlabel('ChestPainType - [ATA:0 | NAP:1 | ASY:2 | TA:3]')\n",
        "plt.ylabel('Patients Count')\n",
        "plt.show()"
      ],
      "metadata": {
        "execution": {
          "iopub.status.busy": "2024-08-18T16:55:32.477277Z",
          "iopub.execute_input": "2024-08-18T16:55:32.477603Z",
          "iopub.status.idle": "2024-08-18T16:55:32.733813Z",
          "shell.execute_reply.started": "2024-08-18T16:55:32.477574Z",
          "shell.execute_reply": "2024-08-18T16:55:32.732669Z"
        },
        "trusted": true,
        "id": "d3s_CSGsCWmX"
      },
      "execution_count": null,
      "outputs": []
    },
    {
      "cell_type": "markdown",
      "source": [
        "The countplot indicates that individuals with asymptomatic chest pain (ASY) have a higher risk of heart disease compared to those with other types of chest pain."
      ],
      "metadata": {
        "id": "O5QWBrvPCWmX"
      }
    },
    {
      "cell_type": "code",
      "source": [
        "# countplot to show the distribution of FastingBS with respect to HeartDisease\n",
        "sns.countplot(x='FastingBS', data=df_new, hue='HeartDisease')\n",
        "plt.title('FastingBS Distribution')\n",
        "plt.xlabel('FastingBS - [No : 0 | Yes : 1]')\n",
        "plt.ylabel('Patients Count')\n",
        "plt.show()"
      ],
      "metadata": {
        "execution": {
          "iopub.status.busy": "2024-08-18T16:55:32.734967Z",
          "iopub.execute_input": "2024-08-18T16:55:32.735295Z",
          "iopub.status.idle": "2024-08-18T16:55:32.991624Z",
          "shell.execute_reply.started": "2024-08-18T16:55:32.735267Z",
          "shell.execute_reply": "2024-08-18T16:55:32.990503Z"
        },
        "trusted": true,
        "id": "9zCHGaETCWmX"
      },
      "execution_count": null,
      "outputs": []
    },
    {
      "cell_type": "markdown",
      "source": [
        "The countplot reveals that higher fasting blood sugar levels are associated with an increased risk of heart disease."
      ],
      "metadata": {
        "id": "p23hRHj0CWmX"
      }
    },
    {
      "cell_type": "code",
      "source": [
        "# Distribution of maximum heart rate with heart disease\n",
        "fig,ax = plt.subplots(1,2,figsize=(15,5))\n",
        "sns.boxplot(x='HeartDisease', y='MaxHR', data=df_new, ax=ax[0]).set_title('MaxHR vs HeartDisease')\n",
        "sns.violinplot(x='HeartDisease', y='MaxHR', data=df_new, ax=ax[1]).set_title('MaxHR vs HeartDisease')\n",
        "plt.show()"
      ],
      "metadata": {
        "execution": {
          "iopub.status.busy": "2024-08-18T16:55:32.998321Z",
          "iopub.execute_input": "2024-08-18T16:55:32.999286Z",
          "iopub.status.idle": "2024-08-18T16:55:33.492924Z",
          "shell.execute_reply.started": "2024-08-18T16:55:32.999242Z",
          "shell.execute_reply": "2024-08-18T16:55:33.491771Z"
        },
        "trusted": true,
        "id": "x4C-SFTFCWmX"
      },
      "execution_count": null,
      "outputs": []
    },
    {
      "cell_type": "markdown",
      "source": [
        "Both the boxplot and violin plot show an inverse relationship between maximum heart rate (`MaxHR`) and heart disease risk, suggesting that lower `MaxHR` is associated with higher risk. However, the heart disease group exhibits increased `MaxHR` around 100 and a wider range of values between 120-130 compared to the non-heart disease group. This indicates a more complex relationship between `MaxHR` and heart disease risk."
      ],
      "metadata": {
        "id": "DsNmsarlCWmX"
      }
    },
    {
      "cell_type": "code",
      "source": [
        "# # Distribution of OldPeak rate with heart disease\n",
        "fig,ax = plt.subplots(1,2,figsize=(15,5))\n",
        "sns.boxplot(x='HeartDisease', y='Oldpeak', data=df_new, ax=ax[0]).set_title('Oldpeak vs HeartDisease')\n",
        "sns.violinplot(x='HeartDisease', y='Oldpeak', data=df_new, ax=ax[1]).set_title('Oldpeak vs HeartDisease')"
      ],
      "metadata": {
        "execution": {
          "iopub.status.busy": "2024-08-18T16:55:33.494569Z",
          "iopub.execute_input": "2024-08-18T16:55:33.494995Z",
          "iopub.status.idle": "2024-08-18T16:55:33.978446Z",
          "shell.execute_reply.started": "2024-08-18T16:55:33.494957Z",
          "shell.execute_reply": "2024-08-18T16:55:33.977277Z"
        },
        "trusted": true,
        "id": "6EPUcot6CWmY"
      },
      "execution_count": null,
      "outputs": []
    },
    {
      "cell_type": "markdown",
      "source": [
        "Both the boxplot and violin plot reveal an relationship between depression (Oldpeak) and heart disease. The graphs suggest that higher levels of depression, as indicated by increased Oldpeak values, are associated with a greater risk of heart disease. Notably, Oldpeak values range from 0 to 6."
      ],
      "metadata": {
        "id": "baxT0jWiCWmd"
      }
    },
    {
      "cell_type": "code",
      "source": [
        "# distribution of ExerciseAngina agaisnt herat disease (target Variable)\n",
        "plt.figure(figsize=(10,6))\n",
        "plt.pie(df_new['ExerciseAngina'].value_counts(), labels=['No','Yes'], autopct='%1.2f%%')\n",
        "plt.title('ExerciseAngina Percentage')\n",
        "plt.show()"
      ],
      "metadata": {
        "execution": {
          "iopub.status.busy": "2024-08-18T16:55:33.980025Z",
          "iopub.execute_input": "2024-08-18T16:55:33.980469Z",
          "iopub.status.idle": "2024-08-18T16:55:34.120688Z",
          "shell.execute_reply.started": "2024-08-18T16:55:33.98043Z",
          "shell.execute_reply": "2024-08-18T16:55:34.119404Z"
        },
        "trusted": true,
        "id": "DbJXk6snCWmd"
      },
      "execution_count": null,
      "outputs": []
    },
    {
      "cell_type": "code",
      "source": [
        "sns.countplot(x='ExerciseAngina', data=df_new, hue='HeartDisease')\n",
        "plt.title('ExerciseAngina Distribution')\n",
        "plt.xlabel('ExerciseAngina - [No : 0 | Yes : 1]')\n",
        "plt.ylabel('Count')\n",
        "plt.show()"
      ],
      "metadata": {
        "execution": {
          "iopub.status.busy": "2024-08-18T16:55:34.122224Z",
          "iopub.execute_input": "2024-08-18T16:55:34.122654Z",
          "iopub.status.idle": "2024-08-18T16:55:34.366866Z",
          "shell.execute_reply.started": "2024-08-18T16:55:34.122611Z",
          "shell.execute_reply": "2024-08-18T16:55:34.365538Z"
        },
        "trusted": true,
        "id": "JbV5aJi_CWmd"
      },
      "execution_count": null,
      "outputs": []
    },
    {
      "cell_type": "markdown",
      "source": [
        "Countplot shows ExerciseAngina has high risk of HeartDisease"
      ],
      "metadata": {
        "id": "6QX9H3ZdCWmd"
      }
    },
    {
      "cell_type": "code",
      "source": [
        "# ST_Slope and Heart Disease\n",
        "plt.figure(figsize=(10,6))\n",
        "plt.pie(df_new['ST_Slope'].value_counts(), labels=['Flat','Upsloping', 'Downsloping'], autopct='%1.2f%%')\n",
        "plt.title('ST_Slope Percentage')\n",
        "plt.show()"
      ],
      "metadata": {
        "execution": {
          "iopub.status.busy": "2024-08-18T16:55:34.368355Z",
          "iopub.execute_input": "2024-08-18T16:55:34.368774Z",
          "iopub.status.idle": "2024-08-18T16:55:34.509379Z",
          "shell.execute_reply.started": "2024-08-18T16:55:34.368737Z",
          "shell.execute_reply": "2024-08-18T16:55:34.508017Z"
        },
        "trusted": true,
        "id": "OEh1TFSQCWmd"
      },
      "execution_count": null,
      "outputs": []
    },
    {
      "cell_type": "code",
      "source": [
        "sns.countplot(x='ST_Slope', data=df_new, hue='HeartDisease')\n",
        "plt.title('ST_Slope Distribution')\n",
        "plt.xlabel('ST_Slope - [Up : 0 | Flat : 1 | Down : 2]')\n",
        "plt.ylabel('Count')\n",
        "plt.show()"
      ],
      "metadata": {
        "execution": {
          "iopub.status.busy": "2024-08-18T16:55:34.511171Z",
          "iopub.execute_input": "2024-08-18T16:55:34.512022Z",
          "iopub.status.idle": "2024-08-18T16:55:34.768907Z",
          "shell.execute_reply.started": "2024-08-18T16:55:34.511976Z",
          "shell.execute_reply": "2024-08-18T16:55:34.767783Z"
        },
        "trusted": true,
        "id": "-6RHbDLtCWme"
      },
      "execution_count": null,
      "outputs": []
    },
    {
      "cell_type": "markdown",
      "source": [
        "Countplot shows Flat Slope has high risk of HeartDisease"
      ],
      "metadata": {
        "id": "GJn7yzrNCWme"
      }
    },
    {
      "cell_type": "code",
      "source": [
        "# Heatmap\n",
        "plt.figure(figsize=(10,10))\n",
        "sns.heatmap(df_new.corr(), annot=True)\n",
        "plt.show()"
      ],
      "metadata": {
        "execution": {
          "iopub.status.busy": "2024-08-18T16:55:34.77029Z",
          "iopub.execute_input": "2024-08-18T16:55:34.770627Z",
          "iopub.status.idle": "2024-08-18T16:55:35.495422Z",
          "shell.execute_reply.started": "2024-08-18T16:55:34.770593Z",
          "shell.execute_reply": "2024-08-18T16:55:35.4939Z"
        },
        "trusted": true,
        "id": "70k0B-VpCWme"
      },
      "execution_count": null,
      "outputs": []
    },
    {
      "cell_type": "markdown",
      "source": [
        "### Data Modeling and training"
      ],
      "metadata": {
        "id": "VKTdVBf2CWme"
      }
    },
    {
      "cell_type": "code",
      "source": [
        "# split the dataset into training and testing dataset\n",
        "from sklearn.model_selection import train_test_split\n",
        "X_train, X_test, y_train, y_test = train_test_split(df_new.drop('HeartDisease', axis=1),\n",
        "                                                    df_new['HeartDisease'], test_size=0.15,\n",
        "                                                    random_state=101)\n",
        "# Selects all columns except the 'HeartDisease'\n",
        "# Rest are considered as features or independent variables used to predict the target variable."
      ],
      "metadata": {
        "execution": {
          "iopub.status.busy": "2024-08-18T16:55:35.496788Z",
          "iopub.execute_input": "2024-08-18T16:55:35.497148Z",
          "iopub.status.idle": "2024-08-18T16:55:35.511138Z",
          "shell.execute_reply.started": "2024-08-18T16:55:35.497115Z",
          "shell.execute_reply": "2024-08-18T16:55:35.509779Z"
        },
        "trusted": true,
        "id": "KXN8RP_3CWme"
      },
      "execution_count": null,
      "outputs": []
    },
    {
      "cell_type": "code",
      "source": [
        "warnings.filterwarnings('ignore', category=ConvergenceWarning)"
      ],
      "metadata": {
        "execution": {
          "iopub.status.busy": "2024-08-18T16:55:35.512616Z",
          "iopub.execute_input": "2024-08-18T16:55:35.512981Z",
          "iopub.status.idle": "2024-08-18T16:55:35.525796Z",
          "shell.execute_reply.started": "2024-08-18T16:55:35.512931Z",
          "shell.execute_reply": "2024-08-18T16:55:35.524531Z"
        },
        "trusted": true,
        "id": "AWtrh03rCWme"
      },
      "execution_count": null,
      "outputs": []
    },
    {
      "cell_type": "code",
      "source": [
        "# Logistic Regression\n",
        "from sklearn.linear_model import LogisticRegression\n",
        "from sklearn.metrics import accuracy_score\n",
        "from sklearn.preprocessing import StandardScaler\n",
        "from sklearn.exceptions import ConvergenceWarning\n",
        "\n",
        "scaler = StandardScaler() # Scale the data\n",
        "X_train_scaled = scaler.fit_transform(X_train)\n",
        "X_test_scaled = scaler.transform(X_test)\n",
        "\n",
        "solvers = ['lbfgs', 'liblinear', 'newton-cg', 'newton-cholesky', 'sag', 'saga']  # Type of Methods that varies with sample size, small t0 meadium to large\n",
        "# Small Dataset: Up to a few thousand samples (e.g., 100 to 10,000 samples).\n",
        "# Medium Dataset: From a few thousand to tens of thousands of samples (e.g., 10,000 to 100,000 samples).\n",
        "# Large Dataset: Beyond tens of thousands of samples, potentially reaching millions or more.\n",
        "best_slover = ''\n",
        "train_scores = np.zeros(len(solvers)) #train_score value initialization\n",
        "for i, solver in enumerate(solvers):\n",
        "    try:\n",
        "        lr = LogisticRegression(solver=solver, max_iter=1000)  # Increase max_iter to 1000\n",
        "        lr.fit(X_train_scaled, y_train)\n",
        "        train_scores[i] = lr.score(X_test_scaled, y_test)\n",
        "\n",
        "        if train_scores[i] == train_scores.max():\n",
        "            best_solver = solver\n",
        "    except ConvergenceWarning as e:\n",
        "        print(f'Warning for solver {solver}: {e}')\n",
        "\n",
        "# Fit the model with the best solver\n",
        "lr_best = LogisticRegression(solver=best_solver, max_iter=1000)  # Increase max_iter to 1000\n",
        "lr_best.fit(X_train_scaled, y_train)\n",
        "lr_pred = lr_best.predict(X_test_scaled)\n",
        "print(f'LogisticRegression Score: {accuracy_score(y_test, lr_pred)}')"
      ],
      "metadata": {
        "execution": {
          "iopub.status.busy": "2024-08-18T16:55:35.527274Z",
          "iopub.execute_input": "2024-08-18T16:55:35.527847Z",
          "iopub.status.idle": "2024-08-18T16:55:35.597734Z",
          "shell.execute_reply.started": "2024-08-18T16:55:35.527798Z",
          "shell.execute_reply": "2024-08-18T16:55:35.596317Z"
        },
        "trusted": true,
        "id": "Y5jMaxbyCWme"
      },
      "execution_count": null,
      "outputs": []
    },
    {
      "cell_type": "code",
      "source": [
        "# SVM\n",
        "from sklearn.svm import SVC\n",
        "from sklearn.metrics import f1_score\n",
        "\n",
        "kernels = {'linear':0, 'poly':0, 'rbf':0, 'sigmoid':0} # Types of methods\n",
        "best = ''\n",
        "for i in kernels:\n",
        "    svm = SVC(kernel=i) #Support Vector Classifier\n",
        "    svm.fit(X_train, y_train)\n",
        "    yhat = svm.predict(X_test)\n",
        "    kernels[i]=f1_score(y_test, yhat, average=\"weighted\")\n",
        "    if kernels[i] == max(kernels.values()):\n",
        "        best = i\n",
        "svm = SVC(kernel=best)\n",
        "svm.fit(X_train, y_train)\n",
        "svm_pred = svm.predict(X_test)\n",
        "print(f'SVM f1_score kernel({best}): {f1_score(y_test, svm_pred, average=\"weighted\")}')"
      ],
      "metadata": {
        "execution": {
          "iopub.status.busy": "2024-08-18T16:55:35.599147Z",
          "iopub.execute_input": "2024-08-18T16:55:35.599484Z",
          "iopub.status.idle": "2024-08-18T16:55:42.398268Z",
          "shell.execute_reply.started": "2024-08-18T16:55:35.599456Z",
          "shell.execute_reply": "2024-08-18T16:55:42.397144Z"
        },
        "trusted": true,
        "id": "RcqpMo-5CWmf"
      },
      "execution_count": null,
      "outputs": []
    },
    {
      "cell_type": "code",
      "source": [
        "# Decision Tree\n",
        "from sklearn.tree import DecisionTreeClassifier\n",
        "from sklearn.model_selection import GridSearchCV\n",
        "\n",
        "dtree = DecisionTreeClassifier(class_weight='balanced')\n",
        "param_grid = {\n",
        "    'max_depth': [3, 4, 5, 6, 7, 8],\n",
        "    'min_samples_split': [2, 3, 4],\n",
        "    'min_samples_leaf': [1, 2, 3, 4],\n",
        "    'random_state': [0, 42]\n",
        "}\n",
        "grid_search = GridSearchCV(dtree, param_grid, cv=5)\n",
        "grid_search.fit(X_train, y_train)\n",
        "Ctree = DecisionTreeClassifier(**grid_search.best_params_, class_weight='balanced')\n",
        "Ctree.fit(X_train, y_train)\n",
        "dtc_pred = Ctree.predict(X_test)\n",
        "print(\"DecisionTrees's Accuracy: \", accuracy_score(y_test, dtc_pred))"
      ],
      "metadata": {
        "execution": {
          "iopub.status.busy": "2024-08-18T16:55:42.399541Z",
          "iopub.execute_input": "2024-08-18T16:55:42.399886Z",
          "iopub.status.idle": "2024-08-18T16:55:48.307053Z",
          "shell.execute_reply.started": "2024-08-18T16:55:42.399856Z",
          "shell.execute_reply": "2024-08-18T16:55:48.305793Z"
        },
        "trusted": true,
        "id": "r4_2-PAeCWmf"
      },
      "execution_count": null,
      "outputs": []
    },
    {
      "cell_type": "code",
      "source": [
        "# KNN\n",
        "from sklearn.neighbors import KNeighborsClassifier\n",
        "Ks = 80\n",
        "mean_acc = np.zeros((Ks-1))\n",
        "std_acc = np.zeros((Ks-1))\n",
        "for n in range(1,Ks):\n",
        "    #Train Model and Predict\n",
        "    neigh = KNeighborsClassifier(n_neighbors = n).fit(X_train,y_train)\n",
        "    yhat=neigh.predict(X_test)\n",
        "    mean_acc[n-1] = accuracy_score(y_test, yhat)\n",
        "\n",
        "    std_acc[n-1]=np.std(yhat==y_test)/np.sqrt(yhat.shape[0])\n",
        "\n",
        "best_K = mean_acc.argmax()+1\n",
        "knn = KNeighborsClassifier(n_neighbors = best_K).fit(X_train,y_train)\n",
        "knn_pred=neigh.predict(X_test)\n",
        "print( \"The best accuracy was \", accuracy_score(y_test, knn_pred), \"with k=\", mean_acc.argmax()+1)"
      ],
      "metadata": {
        "execution": {
          "iopub.status.busy": "2024-08-18T16:55:48.308838Z",
          "iopub.execute_input": "2024-08-18T16:55:48.309546Z",
          "iopub.status.idle": "2024-08-18T16:55:49.538404Z",
          "shell.execute_reply.started": "2024-08-18T16:55:48.309506Z",
          "shell.execute_reply": "2024-08-18T16:55:49.537154Z"
        },
        "trusted": true,
        "id": "tpSidvZeCWmf"
      },
      "execution_count": null,
      "outputs": []
    },
    {
      "cell_type": "code",
      "source": [
        "# random Forest\n",
        "from sklearn.ensemble import RandomForestClassifier\n",
        "from sklearn.model_selection import RandomizedSearchCV\n",
        "\n",
        "rfc = RandomForestClassifier()\n",
        "param_grid = {\n",
        "    'n_estimators': [25, 50, 100, 150],\n",
        "    'max_features': ['sqrt', 'log2', None],\n",
        "    'max_depth': [3, 6, 9],\n",
        "    'max_leaf_nodes': [3, 6, 9],\n",
        "}\n",
        "grid_search = GridSearchCV(rfc, param_grid)\n",
        "grid_search.fit(X_train, y_train)\n",
        "rfctree = RandomForestClassifier(**grid_search.best_params_)\n",
        "rfctree.fit(X_train, y_train)\n",
        "rfc_pred = rfctree.predict(X_test)\n",
        "print(\"RandomForestClassifier's Accuracy: \", accuracy_score(y_test, rfc_pred))"
      ],
      "metadata": {
        "execution": {
          "iopub.status.busy": "2024-08-18T16:55:49.539974Z",
          "iopub.execute_input": "2024-08-18T16:55:49.540415Z",
          "iopub.status.idle": "2024-08-18T16:57:20.235441Z",
          "shell.execute_reply.started": "2024-08-18T16:55:49.540377Z",
          "shell.execute_reply": "2024-08-18T16:57:20.23387Z"
        },
        "trusted": true,
        "id": "FGxp4gjpCWmf"
      },
      "execution_count": null,
      "outputs": []
    },
    {
      "cell_type": "code",
      "source": [
        "# Model Evolution\n",
        "from sklearn.metrics import mean_absolute_error,mean_squared_error,r2_score,confusion_matrix\n",
        "\n",
        "def print_score(test, pred, model):\n",
        "    fig, ax = plt.subplots(1,2,figsize=(15, 5))\n",
        "    sns.heatmap(confusion_matrix(test, pred), annot=True, cmap='Blues', ax=ax[0])\n",
        "    plt.xlabel('Predicted Values')\n",
        "    plt.ylabel('Actual Values')\n",
        "    ax = sns.distplot(test, color='r',  label='Actual Value',hist=False)\n",
        "    sns.distplot(pred, color='b', label='Predicted Value',hist=False,ax=ax)\n",
        "    plt.title(f'Actual vs Predicted Value {model}')\n",
        "    plt.xlabel('Outcome')\n",
        "    plt.ylabel('Count')\n",
        "    plt.show()\n",
        "    Metrics = {'Metrics':['Accuracy Score', 'f1 Score', 'Mean Absolute Error ','Mean Squared Error', 'R2 Score'],\n",
        "               'Score' : [accuracy_score(test, pred), f1_score(test, pred, average=\"weighted\"),\n",
        "                          mean_absolute_error(test, pred),mean_squared_error(test, pred),r2_score(test, pred)]}\n",
        "    df = pd.DataFrame(Metrics)\n",
        "    return df"
      ],
      "metadata": {
        "execution": {
          "iopub.status.busy": "2024-08-18T16:57:20.237529Z",
          "iopub.execute_input": "2024-08-18T16:57:20.237971Z",
          "iopub.status.idle": "2024-08-18T16:57:20.249023Z",
          "shell.execute_reply.started": "2024-08-18T16:57:20.23792Z",
          "shell.execute_reply": "2024-08-18T16:57:20.247966Z"
        },
        "trusted": true,
        "id": "Rk9fPmDtCWmf"
      },
      "execution_count": null,
      "outputs": []
    },
    {
      "cell_type": "code",
      "source": [
        "#comparing the accuracy of different models\n",
        "models = ['Logistic Regression','SVM','DecisionTree','KNN', 'RandomForestClassifier']\n",
        "preds = [lr_pred,svm_pred,dtc_pred,knn_pred,rfc_pred]\n",
        "accuracys= []\n",
        "for i in preds:\n",
        "    accuracys.append( accuracy_score(y_test, i))\n",
        "sns.barplot(x=models, y=accuracys)\n",
        "plt.xlabel('Classifier Models')\n",
        "plt.ylabel('Accuracy')\n",
        "plt.title('Comparison of different models')\n",
        "plt.show()"
      ],
      "metadata": {
        "execution": {
          "iopub.status.busy": "2024-08-18T16:57:20.250809Z",
          "iopub.execute_input": "2024-08-18T16:57:20.251624Z",
          "iopub.status.idle": "2024-08-18T16:57:20.515426Z",
          "shell.execute_reply.started": "2024-08-18T16:57:20.251581Z",
          "shell.execute_reply": "2024-08-18T16:57:20.514275Z"
        },
        "trusted": true,
        "id": "wGe9uz4QCWmg"
      },
      "execution_count": null,
      "outputs": []
    },
    {
      "cell_type": "markdown",
      "source": [
        "After conducting an extensive exploratory data analysis, several key factors were identified as significantly influencing the risk of heart disease:\n",
        "\n",
        "* MaxHR (Maximum Heart Rate)\n",
        "* Oldpeak (ST Depression)\n",
        "* Chest Pain Type\n",
        "* Exercise-Induced Angina\n",
        "* ST Segment Slope\n",
        "\n",
        "Among the various models tested, the Support Vector Machine (SVM) emerged as the most effective, achieving an accuracy of 84%. This model outperformed others in the analysis, demonstrating its strong predictive capabilities.\n",
        "\n",
        "However, it's important to note that the dataset used for this analysis was relatively small, consisting of only 918 rows. This limited sample size may have constrained the model's performance. Expanding the dataset is crucial for improving the robustness and accuracy of the model. A larger dataset would provide a more comprehensive view of heart disease and its influencing factors, leading to more accurate predictions and better overall model performance."
      ],
      "metadata": {
        "id": "y4ZjmQwmCWmg"
      }
    }
  ]
}